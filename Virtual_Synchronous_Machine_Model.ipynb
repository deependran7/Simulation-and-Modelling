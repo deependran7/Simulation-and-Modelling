{
  "nbformat": 4,
  "nbformat_minor": 0,
  "metadata": {
    "colab": {
      "name": "Copy of Virtual Synchronous Machine Model.ipynb",
      "provenance": [],
      "collapsed_sections": []
    },
    "kernelspec": {
      "name": "python3",
      "display_name": "Python 3"
    },
    "language_info": {
      "name": "python"
    }
  },
  "cells": [
    {
      "cell_type": "code",
      "source": [
        "import numpy as np\n",
        "import matplotlib.pyplot as plt\n",
        "from numpy import sin, cos,pi,sqrt,abs,real,imag,exp"
      ],
      "metadata": {
        "id": "KBRpxwkPg6o1"
      },
      "execution_count": 426,
      "outputs": []
    },
    {
      "cell_type": "code",
      "source": [
        "#RK4Solver class\n",
        "class RK4Solver:\n",
        "\n",
        "  def __init__(self, s_i, dt,t0,time,ndim, system_of_equations):\n",
        "    self.dt = dt\n",
        "    self.t0 = t0\n",
        "    self.time = time\n",
        "    self.s = s_i\n",
        "    self.system_of_equations = system_of_equations\n",
        "    self.ndim = ndim\n",
        "    self.steps = int(self.time/self.dt)\n",
        "    self.state_solution = np.zeros((self.ndim,self.steps))\n",
        "    self.time_solution = np.zeros((1, self.steps))\n",
        "    self.index = 0;\n",
        "\n",
        "    #taking single step RK4\n",
        "  def RK4Step(self,s, dt, t, derivs):\n",
        "      f1 = derivs(s, t)\n",
        "      f2 = derivs(s+f1*dt/2.0, t+dt/2.0)\n",
        "      f3 = derivs(s+f2*dt/2.0, t+dt/2.0)\n",
        "      f4 = derivs(s+f3*dt, t+dt)\n",
        "      return s + (f1+2*f2+2*f3+f4)*dt/6.0\n",
        "\n",
        "  def Run_solver(self):\n",
        "    for step in  range(self.steps):\n",
        "      \n",
        "      self.time_solution[0][self.index] = self.t0\n",
        "      for i in range(self.ndim):\n",
        "        self.state_solution[i][self.index] = self.s[i].item()\n",
        "\n",
        "      self.s = self.RK4Step(self.s, self.dt, self.time, self.system_of_equations)\n",
        "      self.t0 = self.t0 + self.dt\n",
        "      self.index = self.index+1\n",
        "      \n",
        "    return np.array([self.state_solution,self.time_solution])"
      ],
      "metadata": {
        "id": "FiYHABzIbqDk"
      },
      "execution_count": 427,
      "outputs": []
    },
    {
      "cell_type": "code",
      "source": [
        "def dq0_abc_transform(v_d,v_q,v_0,wt):\n",
        "  one = 1\n",
        "  a = cos(wt)*v_d - sin(wt)*v_q + one*v_0\n",
        "  b = cos(wt-2*pi/3)*v_d -sin(wt-2*pi/3)*v_q + one*v_0\n",
        "  c = cos(wt+2*pi/3)*v_d -sin(wt+2*pi/3)*v_q + one*v_0\n",
        "  return np.array([a,b,c])"
      ],
      "metadata": {
        "id": "MzHgV1g5b0fh"
      },
      "execution_count": 428,
      "outputs": []
    },
    {
      "cell_type": "code",
      "source": [
        "def abc_to_dq0(va,vb,vc,wt):\n",
        "  V_d = (2/3)*(va*sin(wt) + vb*sin(wt-2*pi/3) + vc*sin(wt+2*pi/3))\n",
        "  V_q = (2/3)*(va*cos(wt) + vb*cos(wt-2*pi/3) + vc*cos(wt+2*pi/3))\n",
        "  V_0 = (1/3)*(va + vb+vc)\n",
        "  return np.array([V_d,V_q,V_0])"
      ],
      "metadata": {
        "id": "Usk0kADgb7lm"
      },
      "execution_count": 429,
      "outputs": []
    },
    {
      "cell_type": "code",
      "source": [
        "Base_kva = 8.1 \n",
        "Base_kv = 0.4/sqrt(3)\n",
        "Base_kv_peak = sqrt(2)*Base_kv\n",
        "Base_i = Base_kva/(3*Base_kv)\n",
        "Base_i_peak = sqrt(2)*Base_i\n",
        "f_base = 50\n",
        "omega_base = 2*pi*f_base\n",
        "poles = 2\n",
        "omega_m_base = omega_base*(2/poles)\n",
        "Z_sbase = Base_kv*1000/Base_i\n",
        "Torque_base = Base_kva*1000/omega_m_base"
      ],
      "metadata": {
        "id": "oep4wgWoeOGR"
      },
      "execution_count": 430,
      "outputs": []
    },
    {
      "cell_type": "markdown",
      "source": [
        "<h2>Virtual Synchronous Machine Modelling</h2>\n",
        "<h3>Virtual Synchronous Machine Modelling Equations</h3>\n",
        "\n",
        "$$J\\frac{d\\omega}{dt} = T_{set} - T_e + D_p (\\omega_r - \\omega)$$\n",
        "$$\\frac{d\\theta}{dt} = \\omega$$\n",
        "\n",
        "$$K\\frac{dm_fi_f}{dt} = Q_{set} -Q_e - D_q(V_{ref} - V_t)$$\n",
        "$$P_{e} = \\omega m_fi_f[i_asin\\theta + i_bsin(\\theta - 2\\pi/3) + i_csin(\\theta + 2\\pi/3)]$$\n",
        "$$Q_{e} = - \\omega m_fi_f[i_acos\\theta + i_bcos(\\theta - 2\\pi/3) + i_ccos(\\theta + 2\\pi/3)]$$\n",
        "$$e_{abc} = \\omega m_fi_f[sin\\theta + sin(\\theta - 2\\pi/3) + sin(\\theta + 2\\pi/3)]$$\n",
        "$$i_{abc} = dq02abc(i_{dq,inv})$$\n",
        "$$m_d,m_q,m_0 = abc2dq0(e_{abc})$$\n",
        "$$V_t = \\sqrt{V_{d,inv}^2 + V_{q,inv}^2}$$\n",
        "\n",
        "<h3>Inverter Modelling Equations</h3>\n",
        "The circuit equations of the voltage source converter as shoen below. The converter with L-type filter has been analysised. The further assumption is to neglet DC side swithching losses since thery are not relevant for grid dynamics/interaztion. Thus it simplifes the dynamics of the DC side of the VSC.\n",
        "\n",
        "use the eabc to md mq tranport lag\n",
        "\n",
        "$$\\frac{m_dV_{dc}}{2} = L_f\\frac{di_{d,inv}}{dt} - ω_sL_fi_{q,i} + R_fi_{d,i} + V_{d,i}$$\n",
        "\n",
        "$$\\frac{m_qV_{dc}}{2} = L_f\\frac{di_{q,inv}}{dt} + ω_sL_fi_{d,i} + R_fi_{q,i} + V_{q,i}$$\n",
        "\n",
        "$$C_{dc}\\frac{dV_{dc}}{dt} = \\frac{P_{pv}-P_{vsc}}{V_{dc}}$$\n",
        "$$P_{vsc} = (m_dV_{dc}I_d + m_qV_{dc}i_q)/2$$\n",
        "\n",
        "$V_{d,i}$ and $V_{q,i}$ are the voltage at PCC. $i_{d,i}$ and $i_{q,i}$ are injected currents.$m_d$ and $m_q$ are the modulation indexes in d and q axis. $C_{dc}$ is DC capacitor. $L_f$and $R_f$ are the filter inductance and resistance.\n",
        "\n",
        "\n",
        "<h3>Load Modelling Equations</h3>\n",
        "\n",
        "$$i_{d,inv} + ji_{q,inv} = I_{load}$$\n",
        "$$I_{load} = I_{dload} + jI_{qload}$$\n",
        "$$Z_{load} = R_{load} + jX_{load}$$\n",
        "$$V_{load} = I_{load}Z_{load}$$\n",
        "$$V_{load} = V_{dload} + jV_{qload}$$\n",
        "$$S_{load} = I_{load}^* V_{load}$$"
      ],
      "metadata": {
        "id": "qjSG_sptkN-T"
      }
    },
    {
      "cell_type": "code",
      "source": [
        "#machine parameters\n",
        "\n",
        "\n",
        "omega_ref = omega_base\n",
        "V_ref = 400*sqrt(2/3)\n",
        "Q_set = 0\n",
        "T_m = 0\n",
        "\n",
        "\n",
        "\n",
        "K = 500;\n",
        "J = 2;\n",
        "D_q = 100/155.35;\n",
        "D_p =636;\n",
        "\n",
        "\n",
        "#inverter parameters\n",
        "L_f = 2/(omega_base)\n",
        "R_f = 1.2\n",
        "P_pv = 1000\n",
        "C_dc = 5*10**(-6)\n",
        "\n",
        "K_inv = 1/(V_ref)\n",
        "T_inv = 0.01\n",
        "\n",
        "##Rate load is 1 pu\n",
        "## while using elc this value can be changed from 1.01 pu to 14 pu\n",
        "R_load = 20\n",
        "X_load = 0\n",
        "Load = complex(R_load,X_load)\n",
        "\n"
      ],
      "metadata": {
        "id": "C-L6gYWKe3bW"
      },
      "execution_count": 431,
      "outputs": []
    },
    {
      "cell_type": "code",
      "source": [
        "def system_of_equations(s, t):\n",
        "  #state variables\n",
        "    omega = s[0]\n",
        "    theta = s[1]\n",
        "    mfif = s[2]\n",
        "    m_d = s[3]\n",
        "    m_q = s[4]\n",
        "    I_di = s[5]\n",
        "    I_qi = s[6]\n",
        "    V_dc = s[7]\n",
        "\n",
        "    \n",
        "    V_Load = complex(I_di,I_qi)*Load\n",
        "    #V_Load = complex(1,0)\n",
        "    V_di = real(V_Load)\n",
        "    V_qi = imag(V_Load)\n",
        "    V_t = abs(V_Load)\n",
        "    \n",
        "\n",
        "    i_a,i_b,i_c = dq0_abc_transform(I_di,I_qi,0,theta)\n",
        "    T_ei = mfif*(i_a*sin(theta) + i_b*sin(theta - 2*pi/3) + i_c*sin(theta + 2*pi/3))\n",
        "    Q = -omega*mfif*(i_a*cos(theta) + i_b*cos(theta - 2*pi/3) + i_c*cos(theta + 2*pi/3))\n",
        "\n",
        "    e_a,e_b,e_c =omega*mfif* np.array([sin(theta),sin(theta-2*pi/3), sin(theta +2*pi/3)])\n",
        "    e_d, e_q,e_0 = abc_to_dq0(e_a,e_b,e_c,theta)\n",
        "\n",
        "    omega_dot = (1/(J)) *(T_m - T_ei + D_p*(omega_ref - omega))\n",
        "    theta_dot = omega\n",
        "    mfif_dot = (1/K)*(Q_set - Q - D_q*(V_ref-V_t))\n",
        "    \n",
        "\n",
        "    m_d_dot = (1/T_inv)*(-m_d + K_inv*(e_d))\n",
        "    m_q_dot = (1/T_inv)*(-m_q + K_inv*(e_q))\n",
        "    \n",
        "    I_di_dot = (1/L_f)*((m_d*V_dc/2)+omega_base*L_f*I_qi - R_f*I_di - V_di)\n",
        "    I_qi_dot =  (1/L_f)*((m_q*V_dc/2)-omega_base*L_f*I_di - R_f*I_qi - V_qi)\n",
        "    \n",
        "    P_vsc = (m_d*V_dc*I_di + m_q*V_dc*I_qi)/2\n",
        "\n",
        "    V_dc_dot = (1/C_dc)*((P_pv - P_vsc)/V_dc)\n",
        "\n",
        "    return np.array([omega_dot, theta_dot,mfif_dot, m_d_dot,m_q_dot,I_di_dot, I_qi_dot, V_dc_dot])"
      ],
      "metadata": {
        "id": "XS0gBgbV2VgG"
      },
      "execution_count": 432,
      "outputs": []
    },
    {
      "cell_type": "code",
      "source": [
        "#Initillization of parameters\n",
        "omega_i = omega_base\n",
        "theta_i= 0.0\n",
        "mfif_i = 0\n",
        "I_di_i = 0\n",
        "I_qi_i = 0\n",
        "V_dc_i = 1\n",
        "m_d_i = 0\n",
        "m_q_i = 0\n",
        "\n",
        "s_i = np.array([omega_i,theta_i,mfif_i,m_d_i,m_q_i,I_di_i, I_qi_i, V_dc_i]) # initial state\n",
        "dt = 1*10**(-4)\n",
        "time = 3\n",
        "t0 = 0\n",
        "ndim = len(s_i)"
      ],
      "metadata": {
        "id": "-jxgTy-X2XxW"
      },
      "execution_count": 433,
      "outputs": []
    },
    {
      "cell_type": "code",
      "source": [
        "solver1 = RK4Solver(s_i,dt,t0,time,ndim,system_of_equations)\n",
        "sol = solver1.Run_solver()"
      ],
      "metadata": {
        "colab": {
          "base_uri": "https://localhost:8080/"
        },
        "id": "JXrDX_N82b4c",
        "outputId": "5c3deb69-81af-4d2d-d892-663d70d0800a"
      },
      "execution_count": 434,
      "outputs": [
        {
          "output_type": "stream",
          "name": "stderr",
          "text": [
            "/usr/local/lib/python3.7/dist-packages/ipykernel_launcher.py:35: VisibleDeprecationWarning: Creating an ndarray from ragged nested sequences (which is a list-or-tuple of lists-or-tuples-or ndarrays with different lengths or shapes) is deprecated. If you meant to do this, you must specify 'dtype=object' when creating the ndarray\n"
          ]
        }
      ]
    },
    {
      "cell_type": "code",
      "source": [
        "omega, theta, mfif,m_d,m_q, I_di, I_qi,V_dc = sol[0] \n",
        "t = sol[1][0]\n",
        "j = complex(0,1)\n",
        "\n",
        "I_dqi = I_di+j*I_qi\n",
        "V_dqs = I_dqi*Load\n",
        "V_di = real(V_dqs)\n",
        "V_qi = imag(V_dqs)\n",
        "V_t = abs(V_dqs)\n",
        "p_load = real(V_dqs*I_dqi)\n"
      ],
      "metadata": {
        "id": "iHBzOVgM2fWW"
      },
      "execution_count": 435,
      "outputs": []
    },
    {
      "cell_type": "code",
      "source": [
        "plt.plot(t,omega)"
      ],
      "metadata": {
        "colab": {
          "base_uri": "https://localhost:8080/",
          "height": 293
        },
        "id": "k9REG7j98MJG",
        "outputId": "a0a0acaf-3e82-48e8-9c68-a9f472f8b738"
      },
      "execution_count": 436,
      "outputs": [
        {
          "output_type": "execute_result",
          "data": {
            "text/plain": [
              "[<matplotlib.lines.Line2D at 0x7f8bc39ad310>]"
            ]
          },
          "metadata": {},
          "execution_count": 436
        },
        {
          "output_type": "display_data",
          "data": {
            "image/png": "[encoded data removed]",
            "text/plain": [
              "<Figure size 432x288 with 1 Axes>"
            ]
          },
          "metadata": {
            "needs_background": "light"
          }
        }
      ]
    },
    {
      "cell_type": "code",
      "source": [
        "plt.plot(t,p_load)\n"
      ],
      "metadata": {
        "colab": {
          "base_uri": "https://localhost:8080/",
          "height": 282
        },
        "id": "vJGr0amoR2z1",
        "outputId": "392ef84a-0cce-4a23-f6b5-049b19e35289"
      },
      "execution_count": 437,
      "outputs": [
        {
          "output_type": "execute_result",
          "data": {
            "text/plain": [
              "[<matplotlib.lines.Line2D at 0x7f8bc3910890>]"
            ]
          },
          "metadata": {},
          "execution_count": 437
        },
        {
          "output_type": "display_data",
          "data": {
            "image/png": "[encoded data removed]",
            "text/plain": [
              "<Figure size 432x288 with 1 Axes>"
            ]
          },
          "metadata": {
            "needs_background": "light"
          }
        }
      ]
    },
    {
      "cell_type": "code",
      "source": [
        "plt.plot(t,abs(V_dqs))"
      ],
      "metadata": {
        "colab": {
          "base_uri": "https://localhost:8080/",
          "height": 282
        },
        "id": "EfUqKou4Bjhw",
        "outputId": "85a9eb07-f0a7-4990-a72d-643295f64da9"
      },
      "execution_count": 438,
      "outputs": [
        {
          "output_type": "execute_result",
          "data": {
            "text/plain": [
              "[<matplotlib.lines.Line2D at 0x7f8bc387bdd0>]"
            ]
          },
          "metadata": {},
          "execution_count": 438
        },
        {
          "output_type": "display_data",
          "data": {
            "image/png": "[encoded data removed]",
            "text/plain": [
              "<Figure size 432x288 with 1 Axes>"
            ]
          },
          "metadata": {
            "needs_background": "light"
          }
        }
      ]
    }
  ]
}