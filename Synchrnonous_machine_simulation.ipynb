{
 "cells": [
  {
   "cell_type": "code",
   "execution_count": 146,
   "metadata": {},
   "outputs": [],
   "source": [
    "import numpy as np\n",
    "import matplotlib.pyplot as plt\n",
    "pi = np.pi"
   ]
  },
  {
   "cell_type": "code",
   "execution_count": 147,
   "metadata": {},
   "outputs": [],
   "source": [
    "#parameters\n",
    "Sbase = 1000\n",
    "Vbase = 400/np.sqrt(3)\n",
    "Ibase = Sbase/Vbase\n",
    "Vbase = np.sqrt(2)*Vbase\n",
    "Ibase = np.sqrt(2)*Ibase\n",
    "\n",
    "f_base = 50\n",
    "omega_base = 2*np.pi*f_base\n",
    "Zbase = Vbase/Ibase\n",
    "Rbase = Vbase/Ibase\n",
    "Lbase = Zbase/(2*pi*50)\n",
    "Cbase = 1/(Zbase*2*pi*50)\n",
    "#machine parameters\n",
    "X_dd = 0.296\n",
    "X_d = 1.56\n",
    "X_q = 2\n",
    "X_qd = 0.4\n",
    "T_dod = 3.7\n",
    "T_qod = 0.6\n",
    "D = 0.0005\n",
    "J = 20\n",
    "R_sg = 0.0\n",
    "\n",
    "#excitation system paramters\n",
    "T_A = 0.05\n",
    "K_A = 200\n",
    "V_ref = 1.15\n",
    "\n",
    "#Governor system parameters\n",
    "T_sv = 0.05\n",
    "P_ref = 1\n",
    "R_d = 0.05\n",
    "T_ch =0.5 \n",
    "\n",
    "\n",
    "##Rate load is 1 pu\n",
    "R_load = 0.8\n",
    "X_load = 0.6\n",
    "#for infinite grid\n",
    "#theta = np.arctan(X_load/R_load)"
   ]
  },
  {
   "cell_type": "code",
   "execution_count": null,
   "metadata": {},
   "outputs": [],
   "source": []
  },
  {
   "cell_type": "code",
   "execution_count": 148,
   "metadata": {},
   "outputs": [],
   "source": [
    "class Synchronous_Machine:\n",
    "    def __init__(self):\n",
    "        self.state = np.array([0.0,0.0,0.0,0.0])\n",
    "        self.i_d = self.i_q = 0.0\n",
    "        self.I = np.array([self.i_d,self.i_q])\n",
    "        self.change_state(self.state)\n",
    "        self.E_fd = 0.0\n",
    "        self.T_m = 0.0\n",
    "        self.change_input(self.E_fd,self.T_m,self.I)\n",
    "\n",
    "    def change_input(self, E_fd, T_m, I):\n",
    "        self.E_fd = E_fd\n",
    "        self.T_m = T_m\n",
    "        self.i_d, self.i_q = I\n",
    "    \n",
    "    def change_state(self,x):\n",
    "        self.d_omega = x[0]\n",
    "        self.delta =x[1]\n",
    "        self.E_qd = x[2]\n",
    "        self.E_dd = x[3]\n",
    "        \n",
    "        self.V_d = self.E_dd - R_sg* + self.i_q*X_qd\n",
    "        self.V_q = self.E_qd - self.i_d*X_dd - self.i_q*R_sg\n",
    "\n",
    "        self.output = np.array([self.V_d,self.V_q])\n",
    "        self.state = np.array([self.d_omega,self.delta, self.E_qd, self.E_dd])\n",
    "\n",
    "    def derivative(self, E_fd,T_m,I):\n",
    "        self.change_input(E_fd,T_m,I)\n",
    "\n",
    "        P_ei = self.E_dd*self.i_d + self.E_qd*self.i_q - (X_dd-X_qd)*self.i_d * self.i_q\n",
    "        T_ei = P_ei\n",
    "        d_omega_dot = (1/(J)) *(self.T_m - T_ei + D*(self.d_omega))\n",
    "        delta_dot = self.d_omega\n",
    "        E_qd_dot = (1/T_dod) *(-self.E_qd - (X_d - X_dd)*self.i_d + self.E_fd)\n",
    "        E_dd_dot = (1/T_qod) *(-self.E_dd + (X_q - X_qd)*self.i_q)\n",
    "\n",
    "        return np.array([d_omega_dot,delta_dot,E_qd_dot,E_dd_dot])"
   ]
  },
  {
   "cell_type": "code",
   "execution_count": 149,
   "metadata": {},
   "outputs": [],
   "source": [
    "class Governor:\n",
    "    def __init__(self):\n",
    "        self.state = np.array([0.0,0.0])\n",
    "        self.change_state(self.state)\n",
    "        self.P_ref = 0.0\n",
    "        self.d_omega = 0.0\n",
    "        self.change_input(self.P_ref,self.d_omega)\n",
    "    \n",
    "    def change_input(self,P_ref,d_omega):\n",
    "        self.P_ref = P_ref\n",
    "        self.d_omega = d_omega\n",
    "\n",
    "    def change_state(self,x):\n",
    "        self.P_sv = x[0]\n",
    "        self.T_m = x[1]\n",
    "\n",
    "        self.output = self.T_m\n",
    "        self.state = np.array([self.P_sv,self.T_m])\n",
    "\n",
    "    def derivative(self,P_ref,d_omega):\n",
    "        self.change_input(P_ref,d_omega)\n",
    "        P_sv_dot = (1/T_sv)*(-self.P_sv + self.P_ref - (1/(R_d)*self.d_omega))\n",
    "        T_m_dot = (1/T_ch)*(-self.T_m + self.P_sv)\n",
    "        return np.array([P_sv_dot, T_m_dot])\n"
   ]
  },
  {
   "cell_type": "code",
   "execution_count": 150,
   "metadata": {},
   "outputs": [],
   "source": [
    "class Exciter:\n",
    "    def __init__(self):\n",
    "        self.state = 0.0\n",
    "        self.change_state(self.state)\n",
    "        self.V_ref = 0.0\n",
    "        self.V_t = 0.0\n",
    "        self.change_input(self.V_ref,self.V_t)\n",
    "\n",
    "    def change_input(self,V_ref, V_t):\n",
    "        self.V_ref = V_ref\n",
    "        self.V_t = V_t\n",
    "\n",
    "    def change_state(self,x):\n",
    "        self.E_fd = x\n",
    "\n",
    "        self.output = self.E_fd\n",
    "        self.state = self.E_fd\n",
    "    \n",
    "    def derivative(self,V_ref,V_t):\n",
    "        self.change_input(V_ref,V_t)\n",
    "        E_fd_dot = (1/T_A)*(-self.E_fd + K_A*(self.V_ref- self.V_t))\n",
    "        return E_fd_dot"
   ]
  },
  {
   "cell_type": "code",
   "execution_count": 151,
   "metadata": {},
   "outputs": [],
   "source": [
    "class Load:\n",
    "    def __init__(self):\n",
    "        self.R_load = R_load\n",
    "        self.X_load = X_load\n",
    "        self.change_input(0.0,0.0)\n",
    "    \n",
    "    def change_input(self, V_d, V_q):\n",
    "        self.V_d = V_d\n",
    "        self.V_q = V_q\n",
    "        I_cmpx = complex(self.V_d,self.V_q)/complex(self.R_load,self.X_load)\n",
    "        self.I_d = np.real(I_cmpx)\n",
    "        self.I_q = np.imag(I_cmpx)\n",
    "        self.I = np.array([self.I_d, self.I_q])\n",
    "        self.output = self.I"
   ]
  },
  {
   "cell_type": "code",
   "execution_count": 152,
   "metadata": {},
   "outputs": [],
   "source": [
    "ts = np.linspace(0, 20, 100000)\n",
    "dt = ts[1]\n",
    "V_ref = 1\n",
    "P_ref = 1"
   ]
  },
  {
   "cell_type": "code",
   "execution_count": 153,
   "metadata": {},
   "outputs": [],
   "source": [
    "def Machine_in_Grid(Machine,Governor, Exciter,Load):\n",
    "    Delta = np.zeros(len(ts))\n",
    "    D_Omega = np.zeros(len(ts))\n",
    "    Load_V_d = np.zeros(len(ts))\n",
    "    Load_V_q = np.zeros(len(ts))\n",
    "    Load_I_d = np.zeros(len(ts))\n",
    "    Load_I_q = np.zeros(len(ts))\n",
    "    for i,t in enumerate(ts):\n",
    "        #change state here\n",
    "        Machine.change_state(Machine.state + Machine.derivative(Exciter.output,Governor.output, Load.output)*dt)\n",
    "        V_d, V_q = Machine.V_d, Machine.V_q\n",
    "        V_t = np.sqrt(V_d**2 + V_q**2)\n",
    "        d_omega = Machine.d_omega\n",
    "        Exciter.change_state(Exciter.state + Exciter.derivative(V_ref, V_t)*dt)\n",
    "        Governor.change_state(Governor.state + Governor.derivative(P_ref,d_omega)*dt)\n",
    "        Load.change_input(V_d,V_q) \n",
    "        #Load.change_input(1*np.cos(theta), 1*np.sin(theta)) #for infinte grid\n",
    "        #collect output here\n",
    "        D_Omega[i] = Machine.d_omega\n",
    "        Delta[i] = Machine.delta\n",
    "        Load_V_d[i] = Load.V_d\n",
    "        Load_V_q[i] = Load.V_q\n",
    "        Load_I_d[i] = Load.I_d\n",
    "        Load_I_q[i] = Load.I_q\n",
    "\n",
    "    return [D_Omega,Delta, Load_V_d,Load_V_q, Load_I_d,Load_I_q]\n",
    "        "
   ]
  },
  {
   "cell_type": "code",
   "execution_count": 154,
   "metadata": {},
   "outputs": [],
   "source": [
    "machine = Synchronous_Machine()\n",
    "exciter = Exciter()\n",
    "governor = Governor()\n",
    "load = Load()"
   ]
  },
  {
   "cell_type": "code",
   "execution_count": 155,
   "metadata": {},
   "outputs": [],
   "source": [
    "d_omega,delta, V_d, V_q, I_d,I_q = Machine_in_Grid(machine,governor,exciter,load)"
   ]
  },
  {
   "cell_type": "code",
   "execution_count": 156,
   "metadata": {},
   "outputs": [
    {
     "data": {
      "text/plain": [
       "[<matplotlib.lines.Line2D at 0x7fb1adb101c0>]"
      ]
     },
     "execution_count": 156,
     "metadata": {},
     "output_type": "execute_result"
    },
    {
     "data": {
      "image/png": "[encoded data removed]",
      "text/plain": [
       "<Figure size 432x288 with 1 Axes>"
      ]
     },
     "metadata": {
      "needs_background": "light"
     },
     "output_type": "display_data"
    }
   ],
   "source": [
    "plt.plot(ts,d_omega)"
   ]
  },
  {
   "cell_type": "code",
   "execution_count": 158,
   "metadata": {},
   "outputs": [],
   "source": [
    "V_t = np.sqrt(V_d**2 + V_q**2)\n",
    "I_l = np.sqrt(I_d**2 , I_q**2)"
   ]
  },
  {
   "cell_type": "code",
   "execution_count": 159,
   "metadata": {},
   "outputs": [
    {
     "data": {
      "text/plain": [
       "[<matplotlib.lines.Line2D at 0x7fb1adbbf490>]"
      ]
     },
     "execution_count": 159,
     "metadata": {},
     "output_type": "execute_result"
    },
    {
     "data": {
      "image/png": "[encoded data removed]",
      "text/plain": [
       "<Figure size 432x288 with 1 Axes>"
      ]
     },
     "metadata": {
      "needs_background": "light"
     },
     "output_type": "display_data"
    }
   ],
   "source": [
    "plt.plot(ts,V_t)"
   ]
  },
  {
   "cell_type": "code",
   "execution_count": 160,
   "metadata": {},
   "outputs": [
    {
     "data": {
      "text/plain": [
       "[<matplotlib.lines.Line2D at 0x7fb1ada237f0>]"
      ]
     },
     "execution_count": 160,
     "metadata": {},
     "output_type": "execute_result"
    },
    {
     "data": {
      "image/png": "[encoded data removed]",
      "text/plain": [
       "<Figure size 432x288 with 1 Axes>"
      ]
     },
     "metadata": {
      "needs_background": "light"
     },
     "output_type": "display_data"
    }
   ],
   "source": [
    "plt.plot(ts,I_l)"
   ]
  },
  {
   "cell_type": "code",
   "execution_count": null,
   "metadata": {},
   "outputs": [],
   "source": []
  }
 ],
 "metadata": {
  "kernelspec": {
   "display_name": "Python 3.10.4 64-bit",
   "language": "python",
   "name": "python3"
  },
  "language_info": {
   "codemirror_mode": {
    "name": "ipython",
    "version": 3
   },
   "file_extension": ".py",
   "mimetype": "text/x-python",
   "name": "python",
   "nbconvert_exporter": "python",
   "pygments_lexer": "ipython3",
   "version": "3.10.4"
  },
  "orig_nbformat": 4,
  "vscode": {
   "interpreter": {
    "hash": "916dbcbb3f70747c44a77c7bcd40155683ae19c65e1c03b4aa3499c5328201f1"
   }
  }
 },
 "nbformat": 4,
 "nbformat_minor": 2
}
