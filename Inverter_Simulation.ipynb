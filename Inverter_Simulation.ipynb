{
 "cells": [
  {
   "cell_type": "code",
   "execution_count": 18,
   "metadata": {},
   "outputs": [],
   "source": [
    "import numpy as np\n",
    "import matplotlib.pyplot as plt\n",
    "pi = np.pi"
   ]
  },
  {
   "cell_type": "code",
   "execution_count": 79,
   "metadata": {},
   "outputs": [],
   "source": [
    "Vbase = 400/np.sqrt(3)\n",
    "Sbase = 1000\n",
    "Ibase = Sbase/Vbase\n",
    "Zbase = Vbase/Ibase\n",
    "Rbase = Vbase/Ibase\n",
    "Lbase = Zbase/(2*pi*50)\n",
    "Cbase = 1/(Zbase*2*pi*50)\n",
    "Vbase = np.sqrt(2)*Vbase\n",
    "Ibase = np.sqrt(2)*Ibase\n",
    "\n",
    "#Inverter Variables\n",
    "w = 2*pi*50\n",
    "Lf = 4*10**(-3)\n",
    "Rf = 0.05\n",
    "Cf= 3*10**(-6)\n",
    "Rc = 0.05\n",
    "Lc = 2.4*10**(-3)\n",
    "Vdc = 2.66\n",
    "#Load Variables\n",
    "RLoad = 0.8\n",
    "XLoad = 0.6\n",
    "\n",
    "md = 1\n",
    "mq = 0\n",
    "Tinv = 0.002\n",
    "mdq = np.array([md,mq])"
   ]
  },
  {
   "cell_type": "code",
   "execution_count": 80,
   "metadata": {},
   "outputs": [],
   "source": [
    "class Load:\n",
    "    def __init__(self):\n",
    "        self.RLoad = RLoad\n",
    "        self.XLoad = XLoad\n",
    "        self.Idq = np.array([0.0,0.0])\n",
    "        self.Vdq = np.array([0.0,0.0])\n",
    "        self.change_input(self.Idq)\n",
    "    \n",
    "    def change_input(self, Idq):\n",
    "        self.Id,self.Iq = Idq\n",
    "        self.Vd = self.Id*RLoad - self.Iq*XLoad\n",
    "        self.Vq = self.Id*XLoad + self.Iq*RLoad\n",
    "        #Vcmpx = complex(self.Id,self.Iq)*complex(self.RLoad,self.XLoad)\n",
    "        \n",
    "        self.Vdq = np.array([self.Vd, self.Vq])"
   ]
  },
  {
   "cell_type": "code",
   "execution_count": 81,
   "metadata": {},
   "outputs": [],
   "source": [
    "class Inverter:\n",
    "    def __init__(self):\n",
    "        self.state = np.array([0.0,0.0,0.0,0.0,0.0,0.0,0.0,0.0])\n",
    "\n",
    "        self.md,self.mq = mdq\n",
    "        self.Vod = self.Voq = np.array([0,0])\n",
    "        self.mdq = np.array([self.md,self.mq])\n",
    "        self.change_state(self.state)\n",
    "        self.change_input(self.mdq)\n",
    "\n",
    "    def change_input(self, mdq):\n",
    "        self.md,self.mq = mdq\n",
    "        \n",
    "    \n",
    "    def change_state(self,x):\n",
    "        self.Ifd = x[0]\n",
    "        self.Ifq = x[1]\n",
    "        self.Vcd = x[2]\n",
    "        self.Vcq = x[3]\n",
    "        self.Iod = x[4]\n",
    "        self.Ioq = x[5]\n",
    "        self.Vid = x[6]\n",
    "        self.Viq = x[7]\n",
    "        self.Idq = np.array([self.Iod,self.Ioq])\n",
    "        self.state = np.array([self.Ifd,self.Ifq, self.Vcd, self.Vcq, self.Iod, self.Ioq,self.Vid,self.Viq])\n",
    "\n",
    "    def derivative(self,mdq):\n",
    "        self.change_input(mdq)\n",
    "        self.Vod = self.Iod*RLoad - self.Ioq*XLoad\n",
    "        self.Voq = self.Iod*XLoad + self.Ioq*RLoad\n",
    "        Vid_dot = (1/Tinv)*(-self.Vid + self.md*Vdc)\n",
    "        Viq_dot = (1/Tinv)*(-self.Viq + self.mq*Vdc)\n",
    "        Ifd_dot = (-Rf/Lf)*self.Ifd + w*self.Ifq + (self.Vid - self.Vcd)/Lf\n",
    "        Ifq_dot = -w*self.Ifd + (-Rf/Lf)*self.Ifq + (self.Viq - self.Vcq)/Lf\n",
    "        Vcd_dot = w*self.Vcq + (self.Ifd - self.Iod)/Cf\n",
    "        Vcq_dot = -w*self.Vcd + (self.Ifq - self.Ioq)/Cf\n",
    "        Iod_dot = (-Rc/Lc)*self.Iod + w*self.Ioq + (self.Vcd - self.Vod)/Lc\n",
    "        Ioq_dot = -w*self.Iod + (-Rc/Lc)*self.Ioq + (self.Vcq - self.Voq)/Lc\n",
    "\n",
    "        return np.array([Ifd_dot,Ifq_dot,Vcd_dot,Vcq_dot,Iod_dot,Ioq_dot,Vid_dot,Viq_dot])"
   ]
  },
  {
   "cell_type": "code",
   "execution_count": 92,
   "metadata": {},
   "outputs": [],
   "source": [
    "t0 = 0\n",
    "t = 0.2\n",
    "dt = 0.000001\n",
    "ts= np.arange(t0,t,dt)"
   ]
  },
  {
   "cell_type": "code",
   "execution_count": 93,
   "metadata": {},
   "outputs": [],
   "source": [
    "def Machine_in_Grid(Inverter):\n",
    "    Vd = np.zeros(len(ts))\n",
    "    Vq = np.zeros(len(ts))\n",
    "    Id = np.zeros(len(ts))\n",
    "    Iq = np.zeros(len(ts))\n",
    "    for i,t in enumerate(ts):\n",
    "        Inverter.change_state(Inverter.state + Inverter.derivative(mdq)*dt)\n",
    "        \n",
    "        \n",
    "        Vd[i] = Inverter.Vod\n",
    "        Vq[i] = Inverter.Voq\n",
    "        Id[i] = Inverter.Iod\n",
    "        Iq[i] = Inverter.Ioq\n",
    "        \n",
    "\n",
    "    return [Vd,Vq,Id,Iq]\n",
    "        "
   ]
  },
  {
   "cell_type": "code",
   "execution_count": 94,
   "metadata": {},
   "outputs": [],
   "source": [
    "\n",
    "inverter = Inverter()"
   ]
  },
  {
   "cell_type": "code",
   "execution_count": 95,
   "metadata": {},
   "outputs": [],
   "source": [
    "Vd,Vq,Id,Iq= Machine_in_Grid(inverter)"
   ]
  },
  {
   "cell_type": "code",
   "execution_count": 96,
   "metadata": {},
   "outputs": [
    {
     "data": {
      "text/plain": [
       "[<matplotlib.lines.Line2D at 0x7fbd144b7970>]"
      ]
     },
     "execution_count": 96,
     "metadata": {},
     "output_type": "execute_result"
    },
    {
     "data": {
      "image/png": "[encoded data removed]",
      "text/plain": [
       "<Figure size 432x288 with 1 Axes>"
      ]
     },
     "metadata": {
      "needs_background": "light"
     },
     "output_type": "display_data"
    }
   ],
   "source": [
    "plt.plot(ts,np.sqrt(Vd**2,Vq**2))"
   ]
  },
  {
   "cell_type": "code",
   "execution_count": 97,
   "metadata": {},
   "outputs": [
    {
     "data": {
      "text/plain": [
       "[<matplotlib.lines.Line2D at 0x7fbd1451f910>]"
      ]
     },
     "execution_count": 97,
     "metadata": {},
     "output_type": "execute_result"
    },
    {
     "data": {
      "image/png": "[encoded data removed]",
      "text/plain": [
       "<Figure size 432x288 with 1 Axes>"
      ]
     },
     "metadata": {
      "needs_background": "light"
     },
     "output_type": "display_data"
    }
   ],
   "source": [
    "plt.plot(ts,np.sqrt(Id**2,Iq**2))"
   ]
  },
  {
   "cell_type": "code",
   "execution_count": 14,
   "metadata": {},
   "outputs": [],
   "source": [
    "from scipy.integrate import solve_ivp\n",
    "import numpy as np\n",
    "import matplotlib.pyplot as plt\n",
    "pi = np.pi"
   ]
  },
  {
   "cell_type": "code",
   "execution_count": 86,
   "metadata": {},
   "outputs": [],
   "source": [
    "Vbase = 400/np.sqrt(3)\n",
    "Sbase = 1000\n",
    "Ibase = Sbase/Vbase\n",
    "Zbase = Vbase/Ibase\n",
    "Rbase = Vbase/Ibase\n",
    "Lbase = Zbase/(2*pi*50)\n",
    "Cbase = 1/(Zbase*2*pi*50)\n",
    "Vbase = np.sqrt(2)*Vbase\n",
    "Ibase = np.sqrt(2)*Ibase\n",
    "\n",
    "#Inverter Variables\n",
    "w = 2*pi*50\n",
    "Lf = 4*10**(-3)\n",
    "Rf = 0.05\n",
    "Cf= 3*10**(-6)\n",
    "Rc = 0.05\n",
    "Lc = 2.4*10**(-3)\n",
    "Vdc = 1.57\n",
    "#Load Variables\n",
    "RLoad = 0.8\n",
    "XLoad = 0.6\n",
    "\n",
    "T_inv = 0.002\n",
    "\n",
    "\n",
    "#Machine Variables\n",
    "xd =1.56\n",
    "xdd=0.296\n",
    "xq =2\n",
    "xqd=0.4\n",
    "Td0=3.7;\n",
    "Tq0=0.6;\n",
    "J=20;\n",
    "D=0.2;\n",
    "Rsg=0.00;\n",
    "Ka=12;\n",
    "Ta=0.05;\n",
    "Tsv=0.05;\n",
    "Tch=0.5;\n",
    "Rd=0.005;\n",
    "Pref=1.0;\n",
    "Vref=1.15;"
   ]
  },
  {
   "cell_type": "code",
   "execution_count": 87,
   "metadata": {},
   "outputs": [],
   "source": [
    "def Inverter(t,x):\n",
    "    Ifd,Ifq,Vcd,Vcq,Iod,Ioq,Vid,Viq,Eqd,Edd,delta,d_w,Efd,Psv,Pm = x\n",
    "    Vod = Iod*RLoad - Ioq*XLoad\n",
    "    Voq = Iod*XLoad + Ioq*RLoad\n",
    "    md = (Edd - Ioq*xqd - Iod*Rsg)\n",
    "    mq = (Eqd - Ioq*Rsg + Iod*xdd)\n",
    "    Vid_dot = (1/T_inv)*(-Vid + md*Vdc)\n",
    "    Viq_dot = (1/T_inv)*(-Viq + mq*Vdc)\n",
    "    Ifd_dot = (-Rf/Lf)*Ifd + w*Ifq + (Vid - Vcd)/Lf\n",
    "    Ifq_dot = -w*Ifd + (-Rf/Lf)*Ifq + (Viq - Vcq)/Lf\n",
    "    Vcd_dot = w*Vcq + (Ifd - Iod)/Cf\n",
    "    Vcq_dot = -w*Vcd + (Ifq - Ioq)/Cf\n",
    "    Iod_dot = (-Rc/Lc)*Iod + w*Ioq + (Vcd - Vod)/Lc\n",
    "    Ioq_dot = -w*Iod + (-Rc/Lc)*Ioq + (Vcq - Voq)/Lc\n",
    "\n",
    "    ##Machine Equations\n",
    "    Eqd_dot = (-Eqd - (xd-xdd)*Iod + Efd)/Td0 \n",
    "    Edd_dot = (-Edd + (xq-xqd)*Ioq)/Tq0 \n",
    "    del_dot =  d_w\n",
    "    d_w_dot = (Pm - (Eqd*Ioq + Edd*Iod - (xdd-xqd)*(Iod)*(Ioq)) + D*(d_w))/J \n",
    "    Efd_dot = (-Efd +  Ka*(Vref - np.sqrt(Vod**2 + Voq**2)))/Ta\n",
    "    Psv_dot = (-Psv + Pref - (d_w)/Rd)/Tsv \n",
    "    Pm_dot =  (-Pm + Psv)/Tch \n",
    "    \n",
    "    return np.array([Ifd_dot,Ifq_dot,Vcd_dot,Vcq_dot,Iod_dot,Ioq_dot,Vid_dot,Viq_dot,Eqd_dot,Edd_dot,del_dot,d_w_dot,Efd_dot,Psv_dot,Pm_dot])"
   ]
  },
  {
   "cell_type": "code",
   "execution_count": 88,
   "metadata": {},
   "outputs": [],
   "source": [
    "t0 = 0\n",
    "t = 10\n",
    "dt = 0.0001\n",
    "t_eval = np.arange(t0,t,dt)\n",
    "x0 = np.array([[0.],\n",
    "       [0.],\n",
    "       [0.],\n",
    "       [0.],\n",
    "       [0.],\n",
    "       [0.],\n",
    "       [0.],\n",
    "       [0.],\n",
    "       [0.],\n",
    "       [0.],\n",
    "       [0.],\n",
    "       [0.],\n",
    "       [0.],\n",
    "       [0.],\n",
    "       [0.],])"
   ]
  },
  {
   "cell_type": "code",
   "execution_count": 89,
   "metadata": {},
   "outputs": [],
   "source": [
    "sol = solve_ivp(Inverter,[t0,t],y0 = x0.ravel(),t_eval = t_eval)"
   ]
  },
  {
   "cell_type": "code",
   "execution_count": 90,
   "metadata": {},
   "outputs": [],
   "source": [
    "Ifd,Ifq,Vcd,Vcq,Iod,Ioq,Vid,Viq,Eqd,Edd,delta,d_w,Efd,Psv,Pm  = sol.y\n",
    "t = sol.t"
   ]
  },
  {
   "cell_type": "code",
   "execution_count": 91,
   "metadata": {},
   "outputs": [],
   "source": [
    "Vod = Iod*RLoad - Ioq*XLoad\n",
    "Voq = Iod*XLoad + Ioq*RLoad"
   ]
  },
  {
   "cell_type": "code",
   "execution_count": 92,
   "metadata": {},
   "outputs": [
    {
     "data": {
      "text/plain": [
       "[<matplotlib.lines.Line2D at 0x7f88db701900>]"
      ]
     },
     "execution_count": 92,
     "metadata": {},
     "output_type": "execute_result"
    },
    {
     "data": {
      "image/png": "[encoded data removed]",
      "text/plain": [
       "<Figure size 432x288 with 1 Axes>"
      ]
     },
     "metadata": {
      "needs_background": "light"
     },
     "output_type": "display_data"
    }
   ],
   "source": [
    "plt.plot(t,np.sqrt(Iod**2 + Ioq**2))"
   ]
  },
  {
   "cell_type": "code",
   "execution_count": 93,
   "metadata": {},
   "outputs": [
    {
     "data": {
      "text/plain": [
       "[<matplotlib.lines.Line2D at 0x7f88db752e60>]"
      ]
     },
     "execution_count": 93,
     "metadata": {},
     "output_type": "execute_result"
    },
    {
     "data": {
      "image/png": "[encoded data removed]",
      "text/plain": [
       "<Figure size 432x288 with 1 Axes>"
      ]
     },
     "metadata": {
      "needs_background": "light"
     },
     "output_type": "display_data"
    }
   ],
   "source": [
    "plt.plot(t,np.sqrt(Vod**2 + Voq**2))"
   ]
  },
  {
   "cell_type": "code",
   "execution_count": 94,
   "metadata": {},
   "outputs": [
    {
     "data": {
      "text/plain": [
       "[<matplotlib.lines.Line2D at 0x7f88db7c2890>]"
      ]
     },
     "execution_count": 94,
     "metadata": {},
     "output_type": "execute_result"
    },
    {
     "data": {
      "image/png": "[encoded data removed]",
      "text/plain": [
       "<Figure size 432x288 with 1 Axes>"
      ]
     },
     "metadata": {
      "needs_background": "light"
     },
     "output_type": "display_data"
    }
   ],
   "source": [
    "plt.plot(t,Efd)"
   ]
  },
  {
   "cell_type": "code",
   "execution_count": 96,
   "metadata": {},
   "outputs": [
    {
     "data": {
      "text/plain": [
       "array([0.00000000e+00, 3.38870120e-12, 4.90723678e-08, ...,\n",
       "       9.36829943e-01, 9.39336285e-01, 9.41850799e-01])"
      ]
     },
     "execution_count": 96,
     "metadata": {},
     "output_type": "execute_result"
    }
   ],
   "source": [
    "np.sqrt(Vod**2 + Voq**2)"
   ]
  },
  {
   "cell_type": "code",
   "execution_count": 95,
   "metadata": {},
   "outputs": [
    {
     "data": {
      "text/plain": [
       "[<matplotlib.lines.Line2D at 0x7f88db629a20>]"
      ]
     },
     "execution_count": 95,
     "metadata": {},
     "output_type": "execute_result"
    },
    {
     "data": {
      "image/png": "[encoded data removed]",
      "text/plain": [
       "<Figure size 432x288 with 1 Axes>"
      ]
     },
     "metadata": {
      "needs_background": "light"
     },
     "output_type": "display_data"
    }
   ],
   "source": [
    "plt.plot(t,d_w)"
   ]
  },
  {
   "cell_type": "code",
   "execution_count": null,
   "metadata": {},
   "outputs": [],
   "source": []
  }
 ],
 "metadata": {
  "kernelspec": {
   "display_name": "Python 3.10.4 64-bit",
   "language": "python",
   "name": "python3"
  },
  "language_info": {
   "codemirror_mode": {
    "name": "ipython",
    "version": 3
   },
   "file_extension": ".py",
   "mimetype": "text/x-python",
   "name": "python",
   "nbconvert_exporter": "python",
   "pygments_lexer": "ipython3",
   "version": "3.10.4"
  },
  "orig_nbformat": 4,
  "vscode": {
   "interpreter": {
    "hash": "916dbcbb3f70747c44a77c7bcd40155683ae19c65e1c03b4aa3499c5328201f1"
   }
  }
 },
 "nbformat": 4,
 "nbformat_minor": 2
}
