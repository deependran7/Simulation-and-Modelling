{
 "cells": [
  {
   "cell_type": "code",
   "execution_count": 14,
   "metadata": {},
   "outputs": [],
   "source": [
    "from scipy.integrate import solve_ivp\n",
    "import numpy as np\n",
    "import matplotlib.pyplot as plt\n",
    "pi = np.pi"
   ]
  },
  {
   "cell_type": "code",
   "execution_count": 15,
   "metadata": {},
   "outputs": [],
   "source": [
    "Vbase = 400/np.sqrt(3)\n",
    "Sbase = 1000\n",
    "Ibase = Sbase/Vbase\n",
    "Zbase = Vbase/Ibase\n",
    "Rbase = Vbase/Ibase\n",
    "Lbase = Zbase/(2*pi*50)\n",
    "Cbase = 1/(Zbase*2*pi*50)\n",
    "Vbase = np.sqrt(2)*Vbase\n",
    "Ibase = np.sqrt(2)*Ibase\n",
    "\n",
    "#Inverter Variables(in pu)\n",
    "w = 2*pi*50\n",
    "Lf = 4*10**(-3)\n",
    "Rf = 0.05\n",
    "Cf= 3*10**(-6)\n",
    "Rc = 0.05\n",
    "Lc = 2.4*10**(-3)\n",
    "Vdc = 1\n",
    "#Load Variables\n",
    "RLoad = 0.8\n",
    "XLoad = 0.6\n",
    "\n",
    "T_inv = 0.002\n",
    "\n",
    "\n",
    "#Machine Variables(in pu)\n",
    "xd =1.56\n",
    "xdd=0.296\n",
    "xq =2\n",
    "xqd=0.4\n",
    "Td0=3.7;\n",
    "Tq0=0.6;\n",
    "J=40;\n",
    "D=0.2;\n",
    "Rsg=0.00;\n",
    "Ka=24;\n",
    "Ta=0.05;\n",
    "Tsv=0.05;\n",
    "Tch=0.5;\n",
    "Rd=0.005;\n",
    "Pref=1.0;\n",
    "Vref=1.15;"
   ]
  },
  {
   "cell_type": "code",
   "execution_count": 16,
   "metadata": {},
   "outputs": [],
   "source": [
    "def Inverter(t,x):\n",
    "    Ifd,Ifq,Vcd,Vcq,Iod,Ioq,Vid,Viq,Eqd,Edd,delta,d_w,Efd,Psv,Pm = x\n",
    "    Vod = Iod*RLoad - Ioq*XLoad\n",
    "    Voq = Iod*XLoad + Ioq*RLoad\n",
    "    md = (Edd - Ioq*xqd - Iod*Rsg)\n",
    "    mq = (Eqd - Ioq*Rsg + Iod*xdd)\n",
    "    Vid_dot = (1/T_inv)*(-Vid + md*Vdc)\n",
    "    Viq_dot = (1/T_inv)*(-Viq + mq*Vdc)\n",
    "    Ifd_dot = (-Rf/Lf)*Ifd + w*Ifq + (Vid - Vcd)/Lf\n",
    "    Ifq_dot = -w*Ifd + (-Rf/Lf)*Ifq + (Viq - Vcq)/Lf\n",
    "    Vcd_dot = w*Vcq + (Ifd - Iod)/Cf\n",
    "    Vcq_dot = -w*Vcd + (Ifq - Ioq)/Cf\n",
    "    Iod_dot = (-Rc/Lc)*Iod + w*Ioq + (Vcd - Vod)/Lc\n",
    "    Ioq_dot = -w*Iod + (-Rc/Lc)*Ioq + (Vcq - Voq)/Lc\n",
    "\n",
    "    ##Machine Equations\n",
    "    Eqd_dot = (-Eqd - (xd-xdd)*Iod + Efd)/Td0 \n",
    "    Edd_dot = (-Edd + (xq-xqd)*Ioq)/Tq0 \n",
    "    del_dot =  d_w\n",
    "    d_w_dot = (Pm - (Eqd*Ioq + Edd*Iod - (xdd-xqd)*(Iod)*(Ioq)) + D*(d_w))/J \n",
    "    Efd_dot = (-Efd +  Ka*(Vref - np.sqrt(Vod**2 + Voq**2)))/Ta\n",
    "    Psv_dot = (-Psv + Pref - (d_w)/Rd)/Tsv \n",
    "    Pm_dot =  (-Pm + Psv)/Tch \n",
    "    \n",
    "    return np.array([Ifd_dot,Ifq_dot,Vcd_dot,Vcq_dot,Iod_dot,Ioq_dot,Vid_dot,Viq_dot,Eqd_dot,Edd_dot,del_dot,d_w_dot,Efd_dot,Psv_dot,Pm_dot])"
   ]
  },
  {
   "cell_type": "code",
   "execution_count": 17,
   "metadata": {},
   "outputs": [],
   "source": [
    "t0 = 0\n",
    "t = 5\n",
    "dt = 0.0001\n",
    "t_eval = np.arange(t0,t,dt)\n",
    "x0 = np.array([[0.],\n",
    "       [0.],\n",
    "       [0.],\n",
    "       [0.],\n",
    "       [0.],\n",
    "       [0.],\n",
    "       [0.],\n",
    "       [0.],\n",
    "       [0.],\n",
    "       [0.],\n",
    "       [0.],\n",
    "       [0.],\n",
    "       [0.],\n",
    "       [0.],\n",
    "       [0.],])"
   ]
  },
  {
   "cell_type": "code",
   "execution_count": 18,
   "metadata": {},
   "outputs": [],
   "source": [
    "sol = solve_ivp(Inverter,[t0,t],y0 = x0.ravel(),t_eval = t_eval)\n",
    "Ifd,Ifq,Vcd,Vcq,Iod,Ioq,Vid,Viq,Eqd,Edd,delta,d_w,Efd,Psv,Pm  = sol.y\n",
    "t = sol.t"
   ]
  },
  {
   "cell_type": "code",
   "execution_count": 19,
   "metadata": {},
   "outputs": [],
   "source": [
    "Vod = Iod*RLoad - Ioq*XLoad\n",
    "Voq = Iod*XLoad + Ioq*RLoad"
   ]
  },
  {
   "cell_type": "code",
   "execution_count": 20,
   "metadata": {},
   "outputs": [
    {
     "data": {
      "text/plain": [
       "[<matplotlib.lines.Line2D at 0x7f78fc4f3580>]"
      ]
     },
     "execution_count": 20,
     "metadata": {},
     "output_type": "execute_result"
    },
    {
     "data": {
      "image/png": "[encoded data removed]",
      "text/plain": [
       "<Figure size 432x288 with 1 Axes>"
      ]
     },
     "metadata": {
      "needs_background": "light"
     },
     "output_type": "display_data"
    }
   ],
   "source": [
    "plt.plot(t,np.sqrt(Iod**2 + Ioq**2))\n",
    "plt.plot(t,np.sqrt(Vod**2 + Voq**2))"
   ]
  },
  {
   "cell_type": "code",
   "execution_count": 21,
   "metadata": {},
   "outputs": [
    {
     "data": {
      "text/plain": [
       "[<matplotlib.lines.Line2D at 0x7f78f9c50730>]"
      ]
     },
     "execution_count": 21,
     "metadata": {},
     "output_type": "execute_result"
    },
    {
     "data": {
      "image/png": "[encoded data removed]",
      "text/plain": [
       "<Figure size 432x288 with 1 Axes>"
      ]
     },
     "metadata": {
      "needs_background": "light"
     },
     "output_type": "display_data"
    }
   ],
   "source": [
    "plt.plot(t,d_w)"
   ]
  },
  {
   "cell_type": "code",
   "execution_count": 21,
   "metadata": {},
   "outputs": [],
   "source": [
    "from sympy import symbols,Matrix,diff, sqrt\n",
    "import numpy as np\n",
    "import matplotlib.pyplot as plt"
   ]
  },
  {
   "cell_type": "code",
   "execution_count": 33,
   "metadata": {},
   "outputs": [],
   "source": [
    "# define symbols\n",
    "#Machine Symbols\n",
    "Edd,Eqd,delta,d_w = symbols(['E_dd','E_qd','delta','delta_omega'])\n",
    "Pm,Pref,Psv,Efd,Vref= symbols(['P_m','P_ref','P_sv','E_fd','V_ref'])\n",
    "xd,xdd,xq,xqd,Td0,Tq0,J,D,Rd,Rsg = symbols(['x_d','x_dd','x_q','x_qq','T_d0','T_q0','J','D','R_d','R_sg'])\n",
    "Ka,Ta, Tsv, Tch,Rd = symbols(['K_a','T_a','T_sv','T_ch','R_d']) \n",
    "#Inverter Symbols\n",
    "Ifd,Ifq,Vcd,Vcq,Iod,Ioq,Vod,Voq = symbols(['I_fd','I_fq','V_cd','V_cq','I_od','I_oq','V_od','V_oq'])\n",
    "Rf,Lf,w,Cf,Rc,Lc,Vdc = symbols(['R_f','L_f','omega','C_f','R_c','L_c','V_dc'])\n",
    "RLoad,XLoad,md,mq,Tinv = symbols(['RLoad',\"XLoad\",\"m_d\",\"m_q\",\"T_inv\"])\n",
    "Vid,Viq = symbols(['V_id','V_iq'])\n"
   ]
  },
  {
   "cell_type": "code",
   "execution_count": 34,
   "metadata": {},
   "outputs": [],
   "source": [
    "Vod = Iod*RLoad - Ioq*XLoad\n",
    "Voq = Iod*XLoad + Ioq*RLoad\n",
    "md = (Edd - Ioq*xqd - Iod*Rsg)\n",
    "mq = (Eqd - Ioq*Rsg + Iod*xdd)\n",
    "Vid_dot = (1/Tinv)*(-Vid + md*Vdc)\n",
    "Viq_dot = (1/Tinv)*(-Viq + mq*Vdc)\n",
    "Ifd_dot = (-Rf/Lf)*Ifd + w*Ifq + (Vid - Vcd)/Lf\n",
    "Ifq_dot = -w*Ifd + (-Rf/Lf)*Ifq + (Viq - Vcq)/Lf\n",
    "Vcd_dot = w*Vcq + (Ifd - Iod)/Cf\n",
    "Vcq_dot = -w*Vcd + (Ifq - Ioq)/Cf\n",
    "Iod_dot = (-Rc/Lc)*Iod + w*Ioq + (Vcd - Vod)/Lc\n",
    "Ioq_dot = -w*Iod + (-Rc/Lc)*Ioq + (Vcq - Voq)/Lc\n",
    "\n",
    "##Machine Equations\n",
    "Eqd_dot = (-Eqd - (xd-xdd)*Iod + Efd)/Td0 \n",
    "Edd_dot = (-Edd + (xq-xqd)*Ioq)/Tq0 \n",
    "del_dot =  d_w\n",
    "d_w_dot = (Pm - (Eqd*Ioq + Edd*Iod - (xdd-xqd)*(Iod)*(Ioq)) + D*(d_w))/J \n",
    "Efd_dot = (-Efd +  Ka*(Vref - sqrt(Vod**2 + Voq**2)))/Ta\n",
    "Psv_dot = (-Psv + Pref - (d_w)/Rd)/Tsv \n",
    "Pm_dot =  (-Pm + Psv)/Tch "
   ]
  },
  {
   "cell_type": "code",
   "execution_count": 35,
   "metadata": {},
   "outputs": [],
   "source": [
    "Jacobian = Matrix([[diff(Vid_dot,Vid),diff(Vid_dot,Viq),diff(Vid_dot,Ifd),diff(Vid_dot,Ifq),diff(Vid_dot,Vcd),diff(Vid_dot,Vcq),diff(Vid_dot,Iod),diff(Vid_dot,Ioq),diff(Vid_dot,Eqd),diff(Vid_dot,Edd),diff(Vid_dot,delta),diff(Vid_dot,d_w),diff(Vid_dot,Efd),diff(Vid_dot,Psv),diff(Vid_dot,Pm)],\n",
    "                   [diff(Viq_dot,Vid),diff(Viq_dot,Viq),diff(Viq_dot,Ifd),diff(Viq_dot,Ifq),diff(Viq_dot,Vcd),diff(Viq_dot,Vcq),diff(Viq_dot,Iod),diff(Viq_dot,Ioq),diff(Viq_dot,Eqd),diff(Viq_dot,Edd),diff(Viq_dot,delta),diff(Viq_dot,d_w),diff(Viq_dot,Efd),diff(Viq_dot,Psv),diff(Viq_dot,Pm)],\n",
    "                   [diff(Ifd_dot,Vid),diff(Ifd_dot,Viq),diff(Ifd_dot,Ifd),diff(Ifd_dot,Ifq),diff(Ifd_dot,Vcd),diff(Ifd_dot,Vcq),diff(Ifd_dot,Iod),diff(Ifd_dot,Ioq),diff(Ifd_dot,Eqd),diff(Ifd_dot,Edd),diff(Ifd_dot,delta),diff(Ifd_dot,d_w),diff(Ifd_dot,Efd),diff(Ifd_dot,Psv),diff(Ifd_dot,Pm)],\n",
    "                   [diff(Ifq_dot,Vid),diff(Ifq_dot,Viq),diff(Ifq_dot,Ifd),diff(Ifq_dot,Ifq),diff(Ifq_dot,Vcd),diff(Ifq_dot,Vcq),diff(Ifq_dot,Iod),diff(Ifq_dot,Ioq),diff(Ifq_dot,Eqd),diff(Ifq_dot,Edd),diff(Ifq_dot,delta),diff(Ifq_dot,d_w),diff(Ifq_dot,Efd),diff(Ifq_dot,Psv),diff(Ifq_dot,Pm)],\n",
    "                   [diff(Vcd_dot,Vid),diff(Vcd_dot,Viq),diff(Vcd_dot,Ifd),diff(Vcd_dot,Ifq),diff(Vcd_dot,Vcd),diff(Vcd_dot,Vcq),diff(Vcd_dot,Iod),diff(Vcd_dot,Ioq),diff(Vcd_dot,Eqd),diff(Vcd_dot,Edd),diff(Vcd_dot,delta),diff(Vcd_dot,d_w),diff(Vcd_dot,Efd),diff(Vcd_dot,Psv),diff(Vcd_dot,Pm)],\n",
    "                   [diff(Vcq_dot,Vid),diff(Vcq_dot,Viq),diff(Vcq_dot,Ifd),diff(Vcq_dot,Ifq),diff(Vcq_dot,Vcd),diff(Vcq_dot,Vcq),diff(Vcq_dot,Iod),diff(Vcq_dot,Ioq),diff(Vcq_dot,Eqd),diff(Vcq_dot,Edd),diff(Vcq_dot,delta),diff(Vcq_dot,d_w),diff(Vcq_dot,Efd),diff(Vcq_dot,Psv),diff(Vcq_dot,Pm)],\n",
    "                   [diff(Iod_dot,Vid),diff(Iod_dot,Viq),diff(Iod_dot,Ifd),diff(Iod_dot,Ifq),diff(Iod_dot,Vcd),diff(Iod_dot,Vcq),diff(Iod_dot,Iod),diff(Iod_dot,Ioq),diff(Iod_dot,Eqd),diff(Iod_dot,Edd),diff(Iod_dot,delta),diff(Iod_dot,d_w),diff(Iod_dot,Efd),diff(Iod_dot,Psv),diff(Iod_dot,Pm)],\n",
    "                   [diff(Ioq_dot,Vid),diff(Ioq_dot,Viq),diff(Ioq_dot,Ifd),diff(Ioq_dot,Ifq),diff(Ioq_dot,Vcd),diff(Ioq_dot,Vcq),diff(Ioq_dot,Iod),diff(Ioq_dot,Ioq),diff(Ioq_dot,Eqd),diff(Ioq_dot,Edd),diff(Ioq_dot,delta),diff(Ioq_dot,d_w),diff(Ioq_dot,Efd),diff(Ioq_dot,Psv),diff(Ioq_dot,Pm)],\n",
    "                   [diff(Eqd_dot,Vid),diff(Eqd_dot,Viq),diff(Eqd_dot,Ifd),diff(Eqd_dot,Ifq),diff(Eqd_dot,Vcd),diff(Eqd_dot,Vcq),diff(Eqd_dot,Iod),diff(Eqd_dot,Ioq),diff(Eqd_dot,Eqd),diff(Eqd_dot,Edd),diff(Eqd_dot,delta),diff(Eqd_dot,d_w),diff(Eqd_dot,Efd),diff(Eqd_dot,Psv),diff(Eqd_dot,Pm)],\n",
    "                   [diff(Edd_dot,Vid),diff(Edd_dot,Viq),diff(Edd_dot,Ifd),diff(Edd_dot,Ifq),diff(Edd_dot,Vcd),diff(Edd_dot,Vcq),diff(Edd_dot,Iod),diff(Edd_dot,Ioq),diff(Edd_dot,Eqd),diff(Edd_dot,Edd),diff(Edd_dot,delta),diff(Edd_dot,d_w),diff(Edd_dot,Efd),diff(Edd_dot,Psv),diff(Edd_dot,Pm)],\n",
    "                   [diff(del_dot,Vid),diff(del_dot,Viq),diff(del_dot,Ifd),diff(del_dot,Ifq),diff(del_dot,Vcd),diff(del_dot,Vcq),diff(del_dot,Iod),diff(del_dot,Ioq),diff(del_dot,Eqd),diff(del_dot,Edd),diff(del_dot,delta),diff(del_dot,d_w),diff(del_dot,Efd),diff(del_dot,Psv),diff(del_dot,Pm)],\n",
    "                   [diff(d_w_dot,Vid),diff(d_w_dot,Viq),diff(d_w_dot,Ifd),diff(d_w_dot,Ifq),diff(d_w_dot,Vcd),diff(d_w_dot,Vcq),diff(d_w_dot,Iod),diff(d_w_dot,Ioq),diff(d_w_dot,Eqd),diff(d_w_dot,Edd),diff(d_w_dot,delta),diff(d_w_dot,d_w),diff(d_w_dot,Efd),diff(d_w_dot,Psv),diff(d_w_dot,Pm)],\n",
    "                   [diff(Efd_dot,Vid),diff(Efd_dot,Viq),diff(Efd_dot,Ifd),diff(Efd_dot,Ifq),diff(Efd_dot,Vcd),diff(Efd_dot,Vcq),diff(Efd_dot,Iod),diff(Efd_dot,Ioq),diff(Efd_dot,Eqd),diff(Efd_dot,Edd),diff(Efd_dot,delta),diff(Efd_dot,d_w),diff(Efd_dot,Efd),diff(Efd_dot,Psv),diff(Efd_dot,Pm)],\n",
    "                   [diff(Psv_dot,Vid),diff(Psv_dot,Viq),diff(Psv_dot,Ifd),diff(Psv_dot,Ifq),diff(Psv_dot,Vcd),diff(Psv_dot,Vcq),diff(Psv_dot,Iod),diff(Psv_dot,Ioq),diff(Psv_dot,Eqd),diff(Psv_dot,Edd),diff(Psv_dot,delta),diff(Psv_dot,d_w),diff(Psv_dot,Efd),diff(Psv_dot,Psv),diff(Psv_dot,Pm)],\n",
    "                   [diff(Pm_dot,Vid),diff(Pm_dot,Viq),diff(Pm_dot,Ifd),diff(Pm_dot,Ifq),diff(Pm_dot,Vcd),diff(Pm_dot,Vcq),diff(Pm_dot,Iod),diff(Pm_dot,Ioq),diff(Pm_dot,Eqd),diff(Pm_dot,Edd),diff(Pm_dot,delta),diff(Pm_dot,d_w),diff(Pm_dot,Efd),diff(Pm_dot,Psv),diff(Pm_dot,Pm)],\n",
    "\n",
    "                   ])"
   ]
  },
  {
   "cell_type": "code",
   "execution_count": 36,
   "metadata": {},
   "outputs": [
    {
     "data": {
      "text/latex": [
       "$\\displaystyle \\left[\\begin{array}{ccccccccccccccc}- \\frac{1}{T_{inv}} & 0 & 0 & 0 & 0 & 0 & - \\frac{R_{sg} V_{dc}}{T_{inv}} & - \\frac{V_{dc} x_{qq}}{T_{inv}} & 0 & \\frac{V_{dc}}{T_{inv}} & 0 & 0 & 0 & 0 & 0\\\\0 & - \\frac{1}{T_{inv}} & 0 & 0 & 0 & 0 & \\frac{V_{dc} x_{dd}}{T_{inv}} & - \\frac{R_{sg} V_{dc}}{T_{inv}} & \\frac{V_{dc}}{T_{inv}} & 0 & 0 & 0 & 0 & 0 & 0\\\\\\frac{1}{L_{f}} & 0 & - \\frac{R_{f}}{L_{f}} & \\omega & - \\frac{1}{L_{f}} & 0 & 0 & 0 & 0 & 0 & 0 & 0 & 0 & 0 & 0\\\\0 & \\frac{1}{L_{f}} & - \\omega & - \\frac{R_{f}}{L_{f}} & 0 & - \\frac{1}{L_{f}} & 0 & 0 & 0 & 0 & 0 & 0 & 0 & 0 & 0\\\\0 & 0 & \\frac{1}{C_{f}} & 0 & 0 & \\omega & - \\frac{1}{C_{f}} & 0 & 0 & 0 & 0 & 0 & 0 & 0 & 0\\\\0 & 0 & 0 & \\frac{1}{C_{f}} & - \\omega & 0 & 0 & - \\frac{1}{C_{f}} & 0 & 0 & 0 & 0 & 0 & 0 & 0\\\\0 & 0 & 0 & 0 & \\frac{1}{L_{c}} & 0 & - \\frac{RLoad}{L_{c}} - \\frac{R_{c}}{L_{c}} & \\omega + \\frac{XLoad}{L_{c}} & 0 & 0 & 0 & 0 & 0 & 0 & 0\\\\0 & 0 & 0 & 0 & 0 & \\frac{1}{L_{c}} & - \\omega - \\frac{XLoad}{L_{c}} & - \\frac{RLoad}{L_{c}} - \\frac{R_{c}}{L_{c}} & 0 & 0 & 0 & 0 & 0 & 0 & 0\\\\0 & 0 & 0 & 0 & 0 & 0 & \\frac{- x_{d} + x_{dd}}{T_{d0}} & 0 & - \\frac{1}{T_{d0}} & 0 & 0 & 0 & \\frac{1}{T_{d0}} & 0 & 0\\\\0 & 0 & 0 & 0 & 0 & 0 & 0 & \\frac{x_{q} - x_{qq}}{T_{q0}} & 0 & - \\frac{1}{T_{q0}} & 0 & 0 & 0 & 0 & 0\\\\0 & 0 & 0 & 0 & 0 & 0 & 0 & 0 & 0 & 0 & 0 & 1 & 0 & 0 & 0\\\\0 & 0 & 0 & 0 & 0 & 0 & \\frac{- E_{dd} + I_{oq} \\left(x_{dd} - x_{qq}\\right)}{J} & \\frac{- E_{qd} + I_{od} \\left(x_{dd} - x_{qq}\\right)}{J} & - \\frac{I_{oq}}{J} & - \\frac{I_{od}}{J} & 0 & \\frac{D}{J} & 0 & 0 & \\frac{1}{J}\\\\0 & 0 & 0 & 0 & 0 & 0 & - \\frac{K_{a} \\left(RLoad \\left(I_{od} RLoad - I_{oq} XLoad\\right) + XLoad \\left(I_{od} XLoad + I_{oq} RLoad\\right)\\right)}{T_{a} \\sqrt{\\left(I_{od} RLoad - I_{oq} XLoad\\right)^{2} + \\left(I_{od} XLoad + I_{oq} RLoad\\right)^{2}}} & - \\frac{K_{a} \\left(RLoad \\left(I_{od} XLoad + I_{oq} RLoad\\right) - XLoad \\left(I_{od} RLoad - I_{oq} XLoad\\right)\\right)}{T_{a} \\sqrt{\\left(I_{od} RLoad - I_{oq} XLoad\\right)^{2} + \\left(I_{od} XLoad + I_{oq} RLoad\\right)^{2}}} & 0 & 0 & 0 & 0 & - \\frac{1}{T_{a}} & 0 & 0\\\\0 & 0 & 0 & 0 & 0 & 0 & 0 & 0 & 0 & 0 & 0 & - \\frac{1}{R_{d} T_{sv}} & 0 & - \\frac{1}{T_{sv}} & 0\\\\0 & 0 & 0 & 0 & 0 & 0 & 0 & 0 & 0 & 0 & 0 & 0 & 0 & \\frac{1}{T_{ch}} & - \\frac{1}{T_{ch}}\\end{array}\\right]$"
      ],
      "text/plain": [
       "Matrix([\n",
       "[-1/T_inv,        0,        0,        0,      0,      0,                                                                                                                                 -R_sg*V_dc/T_inv,                                                                                                                                 -V_dc*x_qq/T_inv,          0, V_dc/T_inv, 0,             0,      0,       0,       0],\n",
       "[       0, -1/T_inv,        0,        0,      0,      0,                                                                                                                                  V_dc*x_dd/T_inv,                                                                                                                                 -R_sg*V_dc/T_inv, V_dc/T_inv,          0, 0,             0,      0,       0,       0],\n",
       "[   1/L_f,        0, -R_f/L_f,    omega, -1/L_f,      0,                                                                                                                                                0,                                                                                                                                                0,          0,          0, 0,             0,      0,       0,       0],\n",
       "[       0,    1/L_f,   -omega, -R_f/L_f,      0, -1/L_f,                                                                                                                                                0,                                                                                                                                                0,          0,          0, 0,             0,      0,       0,       0],\n",
       "[       0,        0,    1/C_f,        0,      0,  omega,                                                                                                                                           -1/C_f,                                                                                                                                                0,          0,          0, 0,             0,      0,       0,       0],\n",
       "[       0,        0,        0,    1/C_f, -omega,      0,                                                                                                                                                0,                                                                                                                                           -1/C_f,          0,          0, 0,             0,      0,       0,       0],\n",
       "[       0,        0,        0,        0,  1/L_c,      0,                                                                                                                             -RLoad/L_c - R_c/L_c,                                                                                                                                omega + XLoad/L_c,          0,          0, 0,             0,      0,       0,       0],\n",
       "[       0,        0,        0,        0,      0,  1/L_c,                                                                                                                               -omega - XLoad/L_c,                                                                                                                             -RLoad/L_c - R_c/L_c,          0,          0, 0,             0,      0,       0,       0],\n",
       "[       0,        0,        0,        0,      0,      0,                                                                                                                               (-x_d + x_dd)/T_d0,                                                                                                                                                0,    -1/T_d0,          0, 0,             0, 1/T_d0,       0,       0],\n",
       "[       0,        0,        0,        0,      0,      0,                                                                                                                                                0,                                                                                                                                (x_q - x_qq)/T_q0,          0,    -1/T_q0, 0,             0,      0,       0,       0],\n",
       "[       0,        0,        0,        0,      0,      0,                                                                                                                                                0,                                                                                                                                                0,          0,          0, 0,             1,      0,       0,       0],\n",
       "[       0,        0,        0,        0,      0,      0,                                                                                                                   (-E_dd + I_oq*(x_dd - x_qq))/J,                                                                                                                   (-E_qd + I_od*(x_dd - x_qq))/J,    -I_oq/J,    -I_od/J, 0,           D/J,      0,       0,     1/J],\n",
       "[       0,        0,        0,        0,      0,      0, -K_a*(RLoad*(I_od*RLoad - I_oq*XLoad) + XLoad*(I_od*XLoad + I_oq*RLoad))/(T_a*sqrt((I_od*RLoad - I_oq*XLoad)**2 + (I_od*XLoad + I_oq*RLoad)**2)), -K_a*(RLoad*(I_od*XLoad + I_oq*RLoad) - XLoad*(I_od*RLoad - I_oq*XLoad))/(T_a*sqrt((I_od*RLoad - I_oq*XLoad)**2 + (I_od*XLoad + I_oq*RLoad)**2)),          0,          0, 0,             0, -1/T_a,       0,       0],\n",
       "[       0,        0,        0,        0,      0,      0,                                                                                                                                                0,                                                                                                                                                0,          0,          0, 0, -1/(R_d*T_sv),      0, -1/T_sv,       0],\n",
       "[       0,        0,        0,        0,      0,      0,                                                                                                                                                0,                                                                                                                                                0,          0,          0, 0,             0,      0,  1/T_ch, -1/T_ch]])"
      ]
     },
     "execution_count": 36,
     "metadata": {},
     "output_type": "execute_result"
    }
   ],
   "source": [
    "Jacobian"
   ]
  },
  {
   "cell_type": "code",
   "execution_count": 47,
   "metadata": {},
   "outputs": [],
   "source": [
    "#Inverter Variables(in pu)\n",
    "wi = 2*np.pi*50\n",
    "Lfi = 4*10**(-3)\n",
    "Rfi = 0.05\n",
    "Cfi= 3*10**(-6)\n",
    "Rci = 0.05\n",
    "Lci = 2.4*10**(-3)\n",
    "Vdci = 1\n",
    "#Load Variables\n",
    "RLoadi = 0.8\n",
    "XLoadi = 0.6\n",
    "\n",
    "Tinvi = 0.002\n",
    "\n",
    "\n",
    "#Machine Variables(in pu)\n",
    "xdi =1.56\n",
    "xddi=0.296\n",
    "xqi =2\n",
    "xqdi=0.4\n",
    "Td0i=3.7;\n",
    "Tq0i=0.6;\n",
    "Ji=40;\n",
    "Di=0.2;\n",
    "Rsgi=0.00;\n",
    "Kai=24;\n",
    "Tai=0.05;\n",
    "Tsvi=0.05;\n",
    "Tchi=0.5;\n",
    "Rdi=0.005;\n",
    "Prefi=1.0;\n",
    "Vrefi=1.15;\n",
    "#point of linearization\n",
    "Eddi = Eqdi = 0\n",
    "Iodi = 1\n",
    "Ioqi = 0"
   ]
  },
  {
   "cell_type": "code",
   "execution_count": 48,
   "metadata": {},
   "outputs": [],
   "source": [
    "def Evaluate_Jacobian():\n",
    "    J_eval = Jacobian.subs([(Td0, Td0i), (Tq0, Tq0i), (xd, xdi),(xq, xqi),(xdd, xddi),(xqd, xqdi),(J, Ji),(D, Di),(Ta,Tai),(Ka,Kai),(Tsv,Tsvi),(Tch,Tchi),(Rd,Rdi),(Rsg,Rsgi)])\n",
    "    J_eval = J_eval.subs([(Lf, Lfi),(Rf, Rfi),(w, wi),(Cf,Cfi),(Rc, Rci),(Lc,Lci),(Vdc,Vdci),(XLoad,XLoadi),(RLoad, RLoadi),(Edd, Eddi),(Eqd, Eqdi),(Iod, Iodi),(Ioq, Ioqi),(Tinv,Tinvi)])\n",
    "    eval_jacobian = np.array(J_eval).astype(np.float64)\n",
    "    return eval_jacobian\n",
    "\n",
    "def Evaluate_Eigen_Values():\n",
    "    Jacobian = Evaluate_Jacobian()\n",
    "    return np.linalg.eigvals(Jacobian)"
   ]
  },
  {
   "cell_type": "code",
   "execution_count": 49,
   "metadata": {},
   "outputs": [],
   "source": [
    "eigen_values = Evaluate_Eigen_Values()"
   ]
  },
  {
   "cell_type": "code",
   "execution_count": 50,
   "metadata": {},
   "outputs": [
    {
     "data": {
      "image/png": "[encoded data removed]",
      "text/plain": [
       "<Figure size 432x288 with 1 Axes>"
      ]
     },
     "metadata": {
      "needs_background": "light"
     },
     "output_type": "display_data"
    }
   ],
   "source": [
    "plt.scatter(eigen_values.real,eigen_values.imag)\n",
    "plt.grid()"
   ]
  },
  {
   "cell_type": "code",
   "execution_count": 51,
   "metadata": {},
   "outputs": [
    {
     "data": {
      "text/plain": [
       "array([   0.        , -114.07164088, -114.07164088, -112.02488664,\n",
       "       -112.02488664, -182.85633467, -182.85633467, -457.01948928,\n",
       "       -457.01948928,  -22.39686906,    1.87576769,   -0.73458474,\n",
       "         -0.73458474,   -2.80446598,  -20.52583052])"
      ]
     },
     "execution_count": 51,
     "metadata": {},
     "output_type": "execute_result"
    }
   ],
   "source": [
    "eigen_values.real"
   ]
  },
  {
   "cell_type": "code",
   "execution_count": null,
   "metadata": {},
   "outputs": [],
   "source": []
  }
 ],
 "metadata": {
  "kernelspec": {
   "display_name": "Python 3.10.4 64-bit",
   "language": "python",
   "name": "python3"
  },
  "language_info": {
   "codemirror_mode": {
    "name": "ipython",
    "version": 3
   },
   "file_extension": ".py",
   "mimetype": "text/x-python",
   "name": "python",
   "nbconvert_exporter": "python",
   "pygments_lexer": "ipython3",
   "version": "3.10.4"
  },
  "orig_nbformat": 4,
  "vscode": {
   "interpreter": {
    "hash": "916dbcbb3f70747c44a77c7bcd40155683ae19c65e1c03b4aa3499c5328201f1"
   }
  }
 },
 "nbformat": 4,
 "nbformat_minor": 2
}
